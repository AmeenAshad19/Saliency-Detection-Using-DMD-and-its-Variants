{
 "cells": [
  {
   "cell_type": "markdown",
   "metadata": {},
   "source": [
    "<h1><center>Dynamic Mode Decomposition Varients</center></h1>"
   ]
  },
  {
   "cell_type": "code",
   "execution_count": 2,
   "metadata": {},
   "outputs": [],
   "source": [
    "import numpy as np"
   ]
  },
  {
   "cell_type": "code",
   "execution_count": 3,
   "metadata": {},
   "outputs": [
    {
     "data": {
      "text/plain": [
       "array([[1, 2, 3, 4, 5, 6, 7, 8],\n",
       "       [1, 2, 3, 4, 5, 6, 7, 8],\n",
       "       [1, 2, 3, 4, 5, 6, 7, 8],\n",
       "       [1, 2, 3, 4, 5, 6, 7, 8],\n",
       "       [1, 2, 3, 4, 5, 6, 7, 8],\n",
       "       [1, 2, 3, 4, 5, 6, 7, 8],\n",
       "       [1, 2, 3, 4, 5, 6, 7, 8],\n",
       "       [1, 2, 3, 4, 5, 6, 7, 8],\n",
       "       [1, 2, 3, 4, 5, 6, 7, 8],\n",
       "       [1, 2, 3, 4, 5, 6, 7, 8],\n",
       "       [1, 2, 3, 4, 5, 6, 7, 8],\n",
       "       [1, 2, 3, 4, 5, 6, 7, 8],\n",
       "       [1, 2, 3, 4, 5, 6, 7, 8],\n",
       "       [1, 2, 3, 4, 5, 6, 7, 8]])"
      ]
     },
     "execution_count": 3,
     "metadata": {},
     "output_type": "execute_result"
    }
   ],
   "source": [
    "data = np.array([[1,2,3,4,5,6,7,8],[1,2,3,4,5,6,7,8],[1,2,3,4,5,6,7,8],[1,2,3,4,5,6,7,8],[1,2,3,4,5,6,7,8],[1,2,3,4,5,6,7,8],[1,2,3,4,5,6,7,8],[1,2,3,4,5,6,7,8],[1,2,3,4,5,6,7,8],[1,2,3,4,5,6,7,8],[1,2,3,4,5,6,7,8],[1,2,3,4,5,6,7,8],[1,2,3,4,5,6,7,8],[1,2,3,4,5,6,7,8]])\n",
    "data"
   ]
  },
  {
   "cell_type": "code",
   "execution_count": 4,
   "metadata": {},
   "outputs": [
    {
     "data": {
      "text/plain": [
       "array([[1, 2, 3, 4, 5, 6, 7],\n",
       "       [1, 2, 3, 4, 5, 6, 7],\n",
       "       [1, 2, 3, 4, 5, 6, 7],\n",
       "       [1, 2, 3, 4, 5, 6, 7],\n",
       "       [1, 2, 3, 4, 5, 6, 7],\n",
       "       [1, 2, 3, 4, 5, 6, 7],\n",
       "       [1, 2, 3, 4, 5, 6, 7],\n",
       "       [1, 2, 3, 4, 5, 6, 7],\n",
       "       [1, 2, 3, 4, 5, 6, 7],\n",
       "       [1, 2, 3, 4, 5, 6, 7],\n",
       "       [1, 2, 3, 4, 5, 6, 7],\n",
       "       [1, 2, 3, 4, 5, 6, 7],\n",
       "       [1, 2, 3, 4, 5, 6, 7],\n",
       "       [1, 2, 3, 4, 5, 6, 7]])"
      ]
     },
     "execution_count": 4,
     "metadata": {},
     "output_type": "execute_result"
    }
   ],
   "source": [
    "S1 = data[:,0:data.shape[1]-1]\n",
    "S1"
   ]
  },
  {
   "cell_type": "code",
   "execution_count": 5,
   "metadata": {},
   "outputs": [
    {
     "data": {
      "text/plain": [
       "array([[2, 3, 4, 5, 6, 7, 8],\n",
       "       [2, 3, 4, 5, 6, 7, 8],\n",
       "       [2, 3, 4, 5, 6, 7, 8],\n",
       "       [2, 3, 4, 5, 6, 7, 8],\n",
       "       [2, 3, 4, 5, 6, 7, 8],\n",
       "       [2, 3, 4, 5, 6, 7, 8],\n",
       "       [2, 3, 4, 5, 6, 7, 8],\n",
       "       [2, 3, 4, 5, 6, 7, 8],\n",
       "       [2, 3, 4, 5, 6, 7, 8],\n",
       "       [2, 3, 4, 5, 6, 7, 8],\n",
       "       [2, 3, 4, 5, 6, 7, 8],\n",
       "       [2, 3, 4, 5, 6, 7, 8],\n",
       "       [2, 3, 4, 5, 6, 7, 8],\n",
       "       [2, 3, 4, 5, 6, 7, 8]])"
      ]
     },
     "execution_count": 5,
     "metadata": {},
     "output_type": "execute_result"
    }
   ],
   "source": [
    "S2 = data[:,1:data.shape[1]]\n",
    "S2"
   ]
  },
  {
   "cell_type": "markdown",
   "metadata": {},
   "source": [
    "<h2>Original Form</h2>"
   ]
  },
  {
   "cell_type": "code",
   "execution_count": 12,
   "metadata": {},
   "outputs": [],
   "source": [
    "def my_dmd(X, Y, truncate=None):   \n",
    "    U2,Sig2,Vh2 = np.linalg.svd(X, False) # SVD of input matrix  \n",
    "    if truncate is None:\n",
    "        r = len(Sig2)\n",
    "    else:\n",
    "        truncate\n",
    "    U = U2[:,:r]\n",
    "    Sig = np.diag(Sig2)[:r,:r]\n",
    "    V = Vh2.conj().T[:,:r]\n",
    "    Atil = np.dot(np.dot(np.dot(U.conj().T, Y), V), np.linalg.inv(Sig)) # build A tilde\n",
    "    mu,W = np.linalg.eig(Atil)\n",
    "    Phi = np.dot(np.dot(np.dot(Y, V), np.linalg.inv(Sig)), W) # build DMD modes\n",
    "    return mu, Phi"
   ]
  },
  {
   "cell_type": "code",
   "execution_count": 56,
   "metadata": {},
   "outputs": [],
   "source": [
    "[eig_val1, eig_vec1] = my_dmd(S1, S2, truncate=None)"
   ]
  },
  {
   "cell_type": "code",
   "execution_count": 57,
   "metadata": {},
   "outputs": [
    {
     "data": {
      "text/plain": [
       "array([ 1.20000000e+00,  1.38461379e+81, -9.34691418e+63,  3.12151521e+48,\n",
       "       -3.88672878e+47,  1.85737035e+33, -3.88991164e+32])"
      ]
     },
     "execution_count": 57,
     "metadata": {},
     "output_type": "execute_result"
    }
   ],
   "source": [
    "eig_val1"
   ]
  },
  {
   "cell_type": "code",
   "execution_count": 58,
   "metadata": {},
   "outputs": [
    {
     "data": {
      "text/plain": [
       "array([[-3.20713490e-01,  5.85415774e+70, -2.44725311e+53,\n",
       "        -1.85766628e+38,  3.03926603e+38, -2.07138759e+34,\n",
       "         2.22796876e+34],\n",
       "       [-3.20713490e-01,  5.85415774e+70, -2.44725311e+53,\n",
       "        -1.85766628e+38,  3.03926603e+38, -2.07138759e+34,\n",
       "         2.22796876e+34],\n",
       "       [-3.20713490e-01,  5.85415774e+70, -2.44725311e+53,\n",
       "        -1.85766628e+38,  3.03926603e+38, -2.07138759e+34,\n",
       "         2.22796876e+34],\n",
       "       [-3.20713490e-01,  5.85415774e+70, -2.44725311e+53,\n",
       "        -1.85766628e+38,  3.03926603e+38, -2.07138759e+34,\n",
       "         2.22796876e+34],\n",
       "       [-3.20713490e-01,  5.85415774e+70, -2.44725311e+53,\n",
       "        -1.85766628e+38,  3.03926603e+38, -2.07138759e+34,\n",
       "         2.22796876e+34],\n",
       "       [-3.20713490e-01,  5.85415774e+70, -2.44725311e+53,\n",
       "        -1.85766628e+38,  3.03926603e+38, -2.07138759e+34,\n",
       "         2.22796876e+34],\n",
       "       [-3.20713490e-01,  5.85415774e+70, -2.44725311e+53,\n",
       "        -1.85766628e+38,  3.03926603e+38, -2.07138759e+34,\n",
       "         2.22796876e+34],\n",
       "       [-3.20713490e-01,  5.85415774e+70, -2.44725311e+53,\n",
       "        -1.85766628e+38,  3.03926603e+38, -2.07138759e+34,\n",
       "         2.22796876e+34],\n",
       "       [-3.20713490e-01,  5.85415774e+70, -2.44725311e+53,\n",
       "        -1.85766628e+38,  3.03926603e+38, -2.07138759e+34,\n",
       "         2.22796876e+34],\n",
       "       [-3.20713490e-01,  5.85415774e+70, -2.44725311e+53,\n",
       "        -1.85766628e+38,  3.03926603e+38, -2.07138759e+34,\n",
       "         2.22796876e+34],\n",
       "       [-3.20713490e-01,  5.85415774e+70, -2.44725311e+53,\n",
       "        -1.85766628e+38,  3.03926603e+38, -2.07138759e+34,\n",
       "         2.22796876e+34],\n",
       "       [-3.20713490e-01,  5.85415774e+70, -2.44725311e+53,\n",
       "        -1.85766628e+38,  3.03926603e+38, -2.07138759e+34,\n",
       "         2.22796876e+34],\n",
       "       [-3.20713490e-01,  5.85415774e+70, -2.44725311e+53,\n",
       "        -1.85766628e+38,  3.03926603e+38, -2.07138759e+34,\n",
       "         2.22796876e+34],\n",
       "       [-3.20713490e-01,  5.85415774e+70, -2.44725311e+53,\n",
       "        -1.85766628e+38,  3.03926603e+38, -2.07138759e+34,\n",
       "         2.22796876e+34]])"
      ]
     },
     "execution_count": 58,
     "metadata": {},
     "output_type": "execute_result"
    }
   ],
   "source": [
    "eig_vec1"
   ]
  },
  {
   "cell_type": "markdown",
   "metadata": {},
   "source": [
    "<h2>Total DMD</h2>"
   ]
  },
  {
   "cell_type": "code",
   "execution_count": 15,
   "metadata": {},
   "outputs": [],
   "source": [
    "def get_derived_matrices(X, Y, truncate=None):  \n",
    "    T = np.concatenate((X,Y),axis=0)\n",
    "    U2,Sig2,Vh2 = np.linalg.svd(T, False) # SVD of input matrix  \n",
    "    if truncate is None:\n",
    "        r = len(Sig2)\n",
    "    else:\n",
    "        truncate\n",
    "    U = U2[:,:r]\n",
    "    Sig = np.diag(Sig2)[:r,:r]\n",
    "    V = Vh2.conj().T[:,:r]\n",
    "    E1 = np.dot(S1,V)\n",
    "    E2 = np.dot(S2,V)\n",
    "    return E1, E2"
   ]
  },
  {
   "cell_type": "code",
   "execution_count": 21,
   "metadata": {},
   "outputs": [],
   "source": [
    "#[E1, E2] = get_derived_matrices(S1, S2, truncate=None)\n",
    "def T_DMD(S1, S2, truncate=None):\n",
    "    [X, Y] = get_derived_matrices(S1,S2, truncate=None)\n",
    "    U2,Sig2,Vh2 = np.linalg.svd(X, False) # SVD of input matrix  \n",
    "    if truncate is None:\n",
    "        r = len(Sig2)\n",
    "    else:\n",
    "        truncate\n",
    "    U = U2[:,:r]\n",
    "    Sig = np.diag(Sig2)[:r,:r]\n",
    "    V = Vh2.conj().T[:,:r]\n",
    "    Atil = np.dot(np.dot(np.dot(U.conj().T, Y), V), np.linalg.pinv(Sig)) # build A tilde\n",
    "    mu,W = np.linalg.eig(Atil)\n",
    "    Phi = np.dot(np.dot(np.dot(Y, V), np.linalg.pinv(Sig)), W) # build DMD modes\n",
    "    return mu, Phi"
   ]
  },
  {
   "cell_type": "code",
   "execution_count": 59,
   "metadata": {},
   "outputs": [],
   "source": [
    "[eig_val2, eig_vec2] = T_DMD(S1, S2, truncate=None)"
   ]
  },
  {
   "cell_type": "code",
   "execution_count": 60,
   "metadata": {},
   "outputs": [
    {
     "data": {
      "text/plain": [
       "array([0. , 0. , 0. , 0. , 0. , 0. , 1.2])"
      ]
     },
     "execution_count": 60,
     "metadata": {},
     "output_type": "execute_result"
    }
   ],
   "source": [
    "eig_val2"
   ]
  },
  {
   "cell_type": "code",
   "execution_count": 61,
   "metadata": {},
   "outputs": [
    {
     "data": {
      "text/plain": [
       "array([[ 0.        ,  0.        ,  0.        ,  0.        ,  0.        ,\n",
       "         0.        , -0.32071349],\n",
       "       [ 0.        ,  0.        ,  0.        ,  0.        ,  0.        ,\n",
       "         0.        , -0.32071349],\n",
       "       [ 0.        ,  0.        ,  0.        ,  0.        ,  0.        ,\n",
       "         0.        , -0.32071349],\n",
       "       [ 0.        ,  0.        ,  0.        ,  0.        ,  0.        ,\n",
       "         0.        , -0.32071349],\n",
       "       [ 0.        ,  0.        ,  0.        ,  0.        ,  0.        ,\n",
       "         0.        , -0.32071349],\n",
       "       [ 0.        ,  0.        ,  0.        ,  0.        ,  0.        ,\n",
       "         0.        , -0.32071349],\n",
       "       [ 0.        ,  0.        ,  0.        ,  0.        ,  0.        ,\n",
       "         0.        , -0.32071349],\n",
       "       [ 0.        ,  0.        ,  0.        ,  0.        ,  0.        ,\n",
       "         0.        , -0.32071349],\n",
       "       [ 0.        ,  0.        ,  0.        ,  0.        ,  0.        ,\n",
       "         0.        , -0.32071349],\n",
       "       [ 0.        ,  0.        ,  0.        ,  0.        ,  0.        ,\n",
       "         0.        , -0.32071349],\n",
       "       [ 0.        ,  0.        ,  0.        ,  0.        ,  0.        ,\n",
       "         0.        , -0.32071349],\n",
       "       [ 0.        ,  0.        ,  0.        ,  0.        ,  0.        ,\n",
       "         0.        , -0.32071349],\n",
       "       [ 0.        ,  0.        ,  0.        ,  0.        ,  0.        ,\n",
       "         0.        , -0.32071349],\n",
       "       [ 0.        ,  0.        ,  0.        ,  0.        ,  0.        ,\n",
       "         0.        , -0.32071349]])"
      ]
     },
     "execution_count": 61,
     "metadata": {},
     "output_type": "execute_result"
    }
   ],
   "source": [
    "eig_vec2"
   ]
  },
  {
   "cell_type": "markdown",
   "metadata": {},
   "source": [
    "<h2>Randomized DMD</h2>"
   ]
  },
  {
   "cell_type": "code",
   "execution_count": 62,
   "metadata": {},
   "outputs": [],
   "source": [
    "def rsvd(A, Omega):\n",
    "    Y = A @ Omega\n",
    "    Q, _ = np.linalg.qr(Y)\n",
    "    B = Q.T @ A\n",
    "    u_tilde, s, v = np.linalg.svd(B, full_matrices = 0)\n",
    "    u = Q @ u_tilde\n",
    "    return u, s, v"
   ]
  },
  {
   "cell_type": "code",
   "execution_count": 67,
   "metadata": {},
   "outputs": [],
   "source": [
    "def Rsvd_dmd(X, Y, truncate=None):\n",
    "    #rank = np.linalg.matrix_rank(X)\n",
    "    #print(rank)\n",
    "    rank = 7\n",
    "    Omega = np.random.randn(X.shape[1], rank)\n",
    "    U2,Sig2,Vh2 = rsvd(X, Omega) # SVD of input matrix  \n",
    "    if truncate is None:\n",
    "        r = len(Sig2)\n",
    "    else:\n",
    "        truncate\n",
    "    U = U2[:,:r]\n",
    "    Sig = np.diag(Sig2)[:r,:r]\n",
    "    V = Vh2.conj().T[:,:r]\n",
    "    Atil = np.dot(np.dot(np.dot(U.conj().T, Y), V), np.linalg.inv(Sig)) # build A tilde\n",
    "    mu,W = np.linalg.eig(Atil)\n",
    "    Phi = np.dot(np.dot(np.dot(Y, V), np.linalg.inv(Sig)), W) # build DMD modes\n",
    "    return mu, Phi"
   ]
  },
  {
   "cell_type": "code",
   "execution_count": 68,
   "metadata": {},
   "outputs": [],
   "source": [
    "[eig_val3, eig_vec3] = Rsvd_dmd(S1, S2, truncate=None)"
   ]
  },
  {
   "cell_type": "code",
   "execution_count": 69,
   "metadata": {},
   "outputs": [
    {
     "data": {
      "text/plain": [
       "array([-3.75736480e+15+4.93653109e+15j, -3.75736480e+15-4.93653109e+15j,\n",
       "        7.39639862e+13+0.00000000e+00j, -1.89648610e+01+0.00000000e+00j,\n",
       "       -2.84730669e-01+0.00000000e+00j,  2.21515480e-01+0.00000000e+00j,\n",
       "        2.40744071e-02+0.00000000e+00j])"
      ]
     },
     "execution_count": 69,
     "metadata": {},
     "output_type": "execute_result"
    }
   ],
   "source": [
    "eig_val3"
   ]
  },
  {
   "cell_type": "code",
   "execution_count": 70,
   "metadata": {},
   "outputs": [
    {
     "data": {
      "text/plain": [
       "array([[ 1.00419804e+15-1.31934335e+15j,  1.00419804e+15+1.31934335e+15j,\n",
       "        -1.97677058e+13+0.00000000e+00j, -5.11503834e+00+0.00000000e+00j,\n",
       "        -1.22563671e-01+0.00000000e+00j,  1.27362789e-02+0.00000000e+00j,\n",
       "        -4.00320719e-02+0.00000000e+00j],\n",
       "       [ 1.00419804e+15-1.31934335e+15j,  1.00419804e+15+1.31934335e+15j,\n",
       "        -1.97677058e+13+0.00000000e+00j, -5.11503834e+00+0.00000000e+00j,\n",
       "        -1.22563671e-01+0.00000000e+00j,  1.27362789e-02+0.00000000e+00j,\n",
       "        -4.00320719e-02+0.00000000e+00j],\n",
       "       [ 1.00419804e+15-1.31934335e+15j,  1.00419804e+15+1.31934335e+15j,\n",
       "        -1.97677058e+13+0.00000000e+00j, -5.11503834e+00+0.00000000e+00j,\n",
       "        -1.22563671e-01+0.00000000e+00j,  1.27362789e-02+0.00000000e+00j,\n",
       "        -4.00320719e-02+0.00000000e+00j],\n",
       "       [ 1.00419804e+15-1.31934335e+15j,  1.00419804e+15+1.31934335e+15j,\n",
       "        -1.97677058e+13+0.00000000e+00j, -5.11503834e+00+0.00000000e+00j,\n",
       "        -1.22563671e-01+0.00000000e+00j,  1.27362789e-02+0.00000000e+00j,\n",
       "        -4.00320719e-02+0.00000000e+00j],\n",
       "       [ 1.00419804e+15-1.31934335e+15j,  1.00419804e+15+1.31934335e+15j,\n",
       "        -1.97677058e+13+0.00000000e+00j, -5.11503834e+00+0.00000000e+00j,\n",
       "        -1.22563671e-01+0.00000000e+00j,  1.27362789e-02+0.00000000e+00j,\n",
       "        -4.00320719e-02+0.00000000e+00j],\n",
       "       [ 1.00419804e+15-1.31934335e+15j,  1.00419804e+15+1.31934335e+15j,\n",
       "        -1.97677058e+13+0.00000000e+00j, -5.11503834e+00+0.00000000e+00j,\n",
       "        -1.22563671e-01+0.00000000e+00j,  1.27362789e-02+0.00000000e+00j,\n",
       "        -4.00320719e-02+0.00000000e+00j],\n",
       "       [ 1.00419804e+15-1.31934335e+15j,  1.00419804e+15+1.31934335e+15j,\n",
       "        -1.97677058e+13+0.00000000e+00j, -5.11503834e+00+0.00000000e+00j,\n",
       "        -1.22563671e-01+0.00000000e+00j,  1.27362789e-02+0.00000000e+00j,\n",
       "        -4.00320719e-02+0.00000000e+00j],\n",
       "       [ 1.00419804e+15-1.31934335e+15j,  1.00419804e+15+1.31934335e+15j,\n",
       "        -1.97677058e+13+0.00000000e+00j, -5.11503834e+00+0.00000000e+00j,\n",
       "        -1.22563671e-01+0.00000000e+00j,  1.27362789e-02+0.00000000e+00j,\n",
       "        -4.00320719e-02+0.00000000e+00j],\n",
       "       [ 1.00419804e+15-1.31934335e+15j,  1.00419804e+15+1.31934335e+15j,\n",
       "        -1.97677058e+13+0.00000000e+00j, -5.11503834e+00+0.00000000e+00j,\n",
       "        -1.22563671e-01+0.00000000e+00j,  1.27362789e-02+0.00000000e+00j,\n",
       "        -4.00320719e-02+0.00000000e+00j],\n",
       "       [ 1.00419804e+15-1.31934335e+15j,  1.00419804e+15+1.31934335e+15j,\n",
       "        -1.97677058e+13+0.00000000e+00j, -5.11503834e+00+0.00000000e+00j,\n",
       "        -1.22563671e-01+0.00000000e+00j,  1.27362789e-02+0.00000000e+00j,\n",
       "        -4.00320719e-02+0.00000000e+00j],\n",
       "       [ 1.00419804e+15-1.31934335e+15j,  1.00419804e+15+1.31934335e+15j,\n",
       "        -1.97677058e+13+0.00000000e+00j, -5.11503834e+00+0.00000000e+00j,\n",
       "        -1.22563671e-01+0.00000000e+00j,  1.27362789e-02+0.00000000e+00j,\n",
       "        -4.00320719e-02+0.00000000e+00j],\n",
       "       [ 1.00419804e+15-1.31934335e+15j,  1.00419804e+15+1.31934335e+15j,\n",
       "        -1.97677058e+13+0.00000000e+00j, -5.11503834e+00+0.00000000e+00j,\n",
       "        -1.22563671e-01+0.00000000e+00j,  1.27362789e-02+0.00000000e+00j,\n",
       "        -4.00320719e-02+0.00000000e+00j],\n",
       "       [ 1.00419804e+15-1.31934335e+15j,  1.00419804e+15+1.31934335e+15j,\n",
       "        -1.97677058e+13+0.00000000e+00j, -5.11503834e+00+0.00000000e+00j,\n",
       "        -1.22563671e-01+0.00000000e+00j,  1.27362789e-02+0.00000000e+00j,\n",
       "        -4.00320719e-02+0.00000000e+00j],\n",
       "       [ 1.00419804e+15-1.31934335e+15j,  1.00419804e+15+1.31934335e+15j,\n",
       "        -1.97677058e+13+0.00000000e+00j, -5.11503834e+00+0.00000000e+00j,\n",
       "        -1.22563671e-01+0.00000000e+00j,  1.27362789e-02+0.00000000e+00j,\n",
       "        -4.00320719e-02+0.00000000e+00j]])"
      ]
     },
     "execution_count": 70,
     "metadata": {},
     "output_type": "execute_result"
    }
   ],
   "source": [
    "eig_vec3"
   ]
  },
  {
   "cell_type": "code",
   "execution_count": null,
   "metadata": {},
   "outputs": [],
   "source": []
  },
  {
   "cell_type": "code",
   "execution_count": null,
   "metadata": {},
   "outputs": [],
   "source": []
  },
  {
   "cell_type": "code",
   "execution_count": null,
   "metadata": {},
   "outputs": [],
   "source": []
  },
  {
   "cell_type": "code",
   "execution_count": null,
   "metadata": {},
   "outputs": [],
   "source": []
  }
 ],
 "metadata": {
  "kernelspec": {
   "display_name": "Python 3",
   "language": "python",
   "name": "python3"
  },
  "language_info": {
   "codemirror_mode": {
    "name": "ipython",
    "version": 3
   },
   "file_extension": ".py",
   "mimetype": "text/x-python",
   "name": "python",
   "nbconvert_exporter": "python",
   "pygments_lexer": "ipython3",
   "version": "3.8.5"
  }
 },
 "nbformat": 4,
 "nbformat_minor": 4
}
